{
  "nbformat": 4,
  "nbformat_minor": 0,
  "metadata": {
    "colab": {
      "name": "Untitled0.ipynb",
      "provenance": []
    },
    "kernelspec": {
      "name": "python3",
      "display_name": "Python 3"
    },
    "language_info": {
      "name": "python"
    }
  },
  "cells": [
    {
      "cell_type": "code",
      "execution_count": null,
      "metadata": {
        "id": "to7blGQW35CX"
      },
      "outputs": [],
      "source": [
        "import findspark\n",
        "findspark.init()\n",
        "import pyspark\n",
        "sc = pyspark.SparkContext(appName=\"CALLER\")\n",
        "from pyspark.sql.session import SparkSession\n",
        "spark = SparkSession(sc)"
      ]
    },
    {
      "cell_type": "code",
      "source": [
        "import socket\n",
        "import sys\n",
        "import requests\n",
        "#import requests_oauthlib\n",
        "import json\n",
        "\n",
        "def send_tweets_to_spark(full_tweet, tcp_connection):\n",
        "    try:\n",
        "        print (\"------------------------------------------\")\n",
        "        print(\"Text: \" + full_tweet)\n",
        "        print(tcp_connection.send(full_tweet.encode('utf-8')))\n",
        "    except:\n",
        "        e = sys.exc_info()[0]\n",
        "        print(\"Error: %s\" % e)\n",
        "\n",
        "TCP_IP = \"localhost\"\n",
        "TCP_PORT = 10004\n",
        "conn = None\n",
        "\n",
        "\n",
        "s = socket.socket(socket.AF_INET, socket.SOCK_STREAM)\n",
        "s.bind((TCP_IP, TCP_PORT))\n",
        "s.listen(1)\n",
        "\n",
        "\n",
        "print(\"Waiting for TCP connection...\")\n",
        "conn, addr = s.accept()"
      ],
      "metadata": {
        "id": "X1QfJ7Y_3-xH"
      },
      "execution_count": null,
      "outputs": []
    },
    {
      "cell_type": "code",
      "source": [
        "import os\n",
        "import tweepy as tw\n",
        "import time\n",
        "import random\n",
        "\n",
        "#Twitter max 100 tweets\n",
        "\n",
        "consumer_key= 'Gz4fafovYrgtQmAfIOu7a4SgY'\n",
        "consumer_secret= 'u5X3w7a9NrJT6GIe4sb2hAw0zzt0OyDVdtwfHVWsaAvql62IfV'\n",
        "access_token= '2592398337-Cxns81v6BWzTAt43uxAN1wh0jlrsOdFP8LHn2cP'\n",
        "access_token_secret= 'VOQh68hAcLhXEncddElNiMyuAg7Kx5T9GviBnjyHx6rvS'\n",
        "\n",
        "auth = tw.OAuthHandler(consumer_key, consumer_secret)\n",
        "auth.set_access_token(access_token, access_token_secret)\n",
        "api = tw.API(auth)\n",
        "\n",
        "for item in api.search_tweets(q=\"cryptocurrencies\", count=100, lang=\"en\"):\n",
        "    phrase_2_send = item.text + \" \" + str(item.created_at)\n",
        "    send_tweets_to_spark(phrase_2_send+\"\\n\", conn)\n",
        "    time.sleep(random.randint(1,5))\n",
        "    \n",
        "\n",
        "#Gdelt max 250 news\n",
        "\n",
        "from gdeltdoc import GdeltDoc, Filters\n",
        "\n",
        "f = Filters(\n",
        "    keyword = \"cryptocurrencies\",\n",
        "    start_date = \"2020-05-10\",\n",
        "    end_date = \"2021-05-11\"\n",
        ")\n",
        "\n",
        "gd = GdeltDoc()\n",
        "\n",
        "gd.article_search(f)\n",
        "\n",
        "for i in gd.article_search(f).values:\n",
        "    phrase_2_send = i[2] + \" \" + i[3]\n",
        "    send_tweets_to_spark(phrase_2_send+\"\\n\", conn)\n",
        "    time.sleep(random.randint(1,5))\n",
        "\n",
        "# Scrapeo set 50 pages, cada pagina tiene muchas news\n",
        "\n",
        "headers={'User-Agent': 'Mozilla/5.0 (Windows NT 10.0; Win64; x64) AppleWebKit/537.36 (KHTML, like Gecko) Chrome/71.0.3578.98 Safari/537.36'}\n",
        "\n",
        "from bs4 import BeautifulSoup\n",
        "i = 1\n",
        "import time\n",
        "while True:\n",
        "    url = \"https://coinmarketcal.com/en/news?page={}\".format(i)\n",
        "    source_code = requests.get(url, headers=headers,timeout=5).text\n",
        "    soup = BeautifulSoup(source_code,\"html5lib\")\n",
        "    for news,fecha in zip(soup.body.find_all('h5',class_=\"card__title\"), soup.body.find_all('h5',class_=\"card__date\")):\n",
        "        phrase_2_send = news.text + \" \" + fecha.text\n",
        "        send_tweets_to_spark(phrase_2_send+\"\\n\", conn)\n",
        "        time.sleep(random.randint(1,5))\n",
        "    i = i + 1\n",
        "    if i==50:\n",
        "        break"
      ],
      "metadata": {
        "id": "rY2nI_jp3-f2"
      },
      "execution_count": null,
      "outputs": []
    }
  ]
}